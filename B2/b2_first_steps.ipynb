{
 "cells": [
  {
   "cell_type": "markdown",
   "metadata": {},
   "source": [
    "# B2 - First Steps with Machine Learning\n",
    "\n",
    "I am still learning how to code, so I am going to keep things simple and follow the theory about basic supervised learning. I will write down every step in English so I can practice explaining what I am doing."
   ]
  },
  {
   "cell_type": "markdown",
   "metadata": {},
   "source": [
    "## 1. Getting Ready\n",
    "\n",
    "I start by importing the libraries that I saw in the notes: NumPy for numbers, pandas for tables, matplotlib for charts, and scikit-learn for the model tools."
   ]
  },
  {
   "cell_type": "code",
   "execution_count": null,
   "metadata": {},
   "outputs": [],
   "source": [
    "import numpy as np\n",
    "import pandas as pd\n",
    "import matplotlib.pyplot as plt\n",
    "from sklearn.datasets import load_iris\n",
    "from sklearn.model_selection import train_test_split\n",
    "from sklearn.neighbors import KNeighborsClassifier\n",
    "from sklearn.metrics import accuracy_score\n",
    "\n",
    "plt.style.use('seaborn-v0_8')"
   ]
  },
  {
   "cell_type": "markdown",
   "metadata": {},
   "source": [
    "I feel better after importing everything. Using `plt.style.use` helps my charts look clearer without extra work."
   ]
  },
  {
   "cell_type": "markdown",
   "metadata": {},
   "source": [
    "## 2. Loading the Data\n",
    "\n",
    "The theory says I should start with a known dataset. I use the Iris flowers dataset because it is small and friendly."
   ]
  },
  {
   "cell_type": "code",
   "execution_count": null,
   "metadata": {},
   "outputs": [],
   "source": [
    "iris = load_iris()\n",
    "features = iris['data']\n",
    "feature_names = iris['feature_names']\n",
    "target = iris['target']\n",
    "target_names = iris['target_names']\n",
    "\n",
    "df = pd.DataFrame(features, columns=feature_names)\n",
    "df['species'] = target\n",
    "df.head()"
   ]
  },
  {
   "cell_type": "markdown",
   "metadata": {},
   "source": [
    "I check the first rows to be sure the table looks fine. Each row has measurements for a flower and the species as a number."
   ]
  },
  {
   "cell_type": "markdown",
   "metadata": {},
   "source": [
    "## 3. Quick Exploration\n",
    "\n",
    "Because I am still practicing, I do a small exploration: the shape of the table, a statistical summary, and a simple chart."
   ]
  },
  {
   "cell_type": "code",
   "execution_count": null,
   "metadata": {},
   "outputs": [],
   "source": [
    "df.shape"
   ]
  },
  {
   "cell_type": "code",
   "execution_count": null,
   "metadata": {},
   "outputs": [],
   "source": [
    "df.describe()"
   ]
  },
  {
   "cell_type": "code",
   "execution_count": null,
   "metadata": {},
   "outputs": [],
   "source": [
    "plt.figure(figsize=(6, 4))\n",
    "for label in np.unique(target):\n",
    "    rows = df['species'] == label\n",
    "    plt.scatter(df.loc[rows, feature_names[0]], df.loc[rows, feature_names[1]], label=target_names[label])\n",
    "plt.xlabel(feature_names[0])\n",
    "plt.ylabel(feature_names[1])\n",
    "plt.title('First two features of the Iris dataset')\n",
    "plt.legend()\n",
    "plt.tight_layout()\n",
    "plt.show()"
   ]
  },
  {
   "cell_type": "markdown",
   "metadata": {},
   "source": [
    "The scatter plot lets me see that different species occupy slightly different areas. This matches the idea from the notes about patterns in the data."
   ]
  },
  {
   "cell_type": "markdown",
   "metadata": {},
   "source": [
    "## 4. Preparing the Model\n",
    "\n",
    "The lesson suggests splitting the data to test the model. I separate the features from the label and then create training and testing sets."
   ]
  },
  {
   "cell_type": "code",
   "execution_count": null,
   "metadata": {},
   "outputs": [],
   "source": [
    "X = df[feature_names].values\n",
    "y = df['species'].values\n",
    "\n",
    "X_train, X_test, y_train, y_test = train_test_split(\n",
    "    X, y, test_size=0.25, random_state=42, stratify=y\n",
    ")\n",
    "\n",
    "X_train.shape, X_test.shape"
   ]
  },
  {
   "cell_type": "markdown",
   "metadata": {},
   "source": [
    "Using `stratify=y` keeps the classes balanced, which was recommended in the material."
   ]
  },
  {
   "cell_type": "markdown",
   "metadata": {},
   "source": [
    "## 5. Training a Simple Model\n",
    "\n",
    "I pick the k-nearest neighbors algorithm because it is easy to understand: the model looks at the closest points to decide the class."
   ]
  },
  {
   "cell_type": "code",
   "execution_count": null,
   "metadata": {},
   "outputs": [],
   "source": [
    "knn = KNeighborsClassifier(n_neighbors=5)\n",
    "knn.fit(X_train, y_train)"
   ]
  },
  {
   "cell_type": "markdown",
   "metadata": {},
   "source": [
    "`fit` teaches the model by storing the training samples."
   ]
  },
  {
   "cell_type": "markdown",
   "metadata": {},
   "source": [
    "## 6. Evaluating the Model\n",
    "\n",
    "To follow the full cycle, I predict on the test set and measure accuracy."
   ]
  },
  {
   "cell_type": "code",
   "execution_count": null,
   "metadata": {},
   "outputs": [],
   "source": [
    "y_pred = knn.predict(X_test)\n",
    "accuracy = accuracy_score(y_test, y_pred)\n",
    "accuracy"
   ]
  },
  {
   "cell_type": "markdown",
   "metadata": {},
   "source": [
    "The accuracy tells me how often the model guessed the right species."
   ]
  },
  {
   "cell_type": "markdown",
   "metadata": {},
   "source": [
    "## 7. Trying a New Sample\n",
    "\n",
    "For a final check, I create a small example based on the average values to see how the model reacts."
   ]
  },
  {
   "cell_type": "code",
   "execution_count": null,
   "metadata": {},
   "outputs": [],
   "source": [
    "sample = X.mean(axis=0)\n",
    "predicted_species = target_names[knn.predict([sample])[0]]\n",
    "predicted_species"
   ]
  },
  {
   "cell_type": "markdown",
   "metadata": {},
   "source": [
    "I know this is a simple example, but it shows me the full workflow from the theory: gather data, explore it, train a model, and evaluate it."
   ]
  },
  {
   "cell_type": "markdown",
   "metadata": {},
   "source": [
    "## 8. Conclusions\n",
    "\n",
    "- The Iris dataset is perfect for practicing the supervised learning pipeline.\n",
    "- Basic exploration helps me understand the data before modeling.\n",
    "- K-nearest neighbors is simple but works well for this problem.\n",
    "- Evaluating with a test set keeps the process honest.\n",
    "\n",
    "I feel more confident now, and I can revisit the theory to go deeper next time."
   ]
  }
 ],
 "metadata": {
  "kernelspec": {
   "display_name": "Python 3",
   "language": "python",
   "name": "python3"
  },
  "language_info": {
   "name": "python",
   "version": "3.11"
  }
 },
 "nbformat": 4,
 "nbformat_minor": 5
}
